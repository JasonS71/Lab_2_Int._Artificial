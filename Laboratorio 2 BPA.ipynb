{
 "cells": [
  {
   "cell_type": "code",
   "execution_count": 4,
   "id": "d0e4e268",
   "metadata": {},
   "outputs": [],
   "source": [
    "class Nodo:\n",
    "    def __init__(self, datos, hijo=None):\n",
    "        self.datos = datos\n",
    "        self.hijos = []\n",
    "        self.padre = None\n",
    "        self.costo = None\n",
    "        self.set_hijo(hijo)\n",
    "        \n",
    "    def set_hijo(self, hijo):\n",
    "        if (hijo is not None):\n",
    "            self.hijos.append(hijo)\n",
    "            if self.hijos is not None:\n",
    "                for h in self.hijos:\n",
    "                    h.padre = self\n",
    "                \n",
    "    def get_hijos(self):\n",
    "        return self.hijos\n",
    "    \n",
    "    def set_padre(self, padre):\n",
    "        self.padre = padre\n",
    "        \n",
    "    def get_padre(self):\n",
    "        return self.padre\n",
    "\n",
    "    def set_datos(self, datos):\n",
    "        self.datos = datos\n",
    "    \n",
    "    def get_datos(self):\n",
    "        return self.datos\n",
    "    \n",
    "    def set_costo(self, costo):\n",
    "        self.costo = costo\n",
    "        \n",
    "    def get_costo(self):\n",
    "        return self.costo\n",
    "    \n",
    "    def equal(self, nodo):\n",
    "        if self.get_datos() == nodo.get_datos():\n",
    "            return True\n",
    "        else:\n",
    "            return False\n",
    "    \n",
    "    def en_lista(self, lista_nodos):\n",
    "        enlistado = False\n",
    "        for n in lista_nodos:\n",
    "            if self.equal(n):\n",
    "                enlistado = True\n",
    "        return enlistado\n",
    "    \n",
    "    def __str__(self):\n",
    "        return str(self.get_datos())"
   ]
  },
  {
   "cell_type": "code",
   "execution_count": 5,
   "id": "a679e621",
   "metadata": {},
   "outputs": [],
   "source": [
    "def bpa(estado_inicio, estado_solucion):\n",
    "    resuelto = False\n",
    "    nodos_visitados = []\n",
    "    nodos_frontera = []\n",
    "    nodo_inicio = Nodo(estado_inicio)\n",
    "    nodos_frontera.append(nodo_inicio)\n",
    "    \n",
    "    while resuelto == False and len(nodos_frontera) != 0:\n",
    "        nodo_actual = nodos_frontera.pop(0)\n",
    "        nodos_visitados.append(nodo_actual)\n",
    "        \n",
    "        if nodo_actual.get_datos() == estado_solucion:\n",
    "            resuelto = True\n",
    "            return nodo_actual\n",
    "        else:\n",
    "            for hijos_conseguidos in range (0,9):\n",
    "                hijo_n_datos = nodo_actual.get_datos().copy()\n",
    "                temp = hijo_n_datos[hijos_conseguidos]    \n",
    "                hijo_n_datos[hijos_conseguidos] = hijo_n_datos[hijos_conseguidos+1]\n",
    "                hijo_n_datos[hijos_conseguidos+1] = temp\n",
    "                hijo_n = Nodo(hijo_n_datos)\n",
    "\n",
    "                if not hijo_n.en_lista(nodos_visitados) and not hijo_n.en_lista(nodos_frontera):\n",
    "                    nodo_actual.set_hijo(hijo_n)\n",
    "                    nodos_frontera.append(hijo_n)\n",
    "   "
   ]
  },
  {
   "cell_type": "code",
   "execution_count": 6,
   "id": "ae74c57e",
   "metadata": {},
   "outputs": [
    {
     "name": "stdout",
     "output_type": "stream",
     "text": [
      "[[4, 3, 2, 1, 5, 6, 7, 8, 9, 10], [3, 4, 2, 1, 5, 6, 7, 8, 9, 10], [3, 2, 4, 1, 5, 6, 7, 8, 9, 10], [2, 3, 4, 1, 5, 6, 7, 8, 9, 10], [2, 3, 1, 4, 5, 6, 7, 8, 9, 10], [2, 1, 3, 4, 5, 6, 7, 8, 9, 10], [1, 2, 3, 4, 5, 6, 7, 8, 9, 10]]\n"
     ]
    }
   ],
   "source": [
    "if __name__ == \"__main__\":\n",
    "    # estado_inicial = [7, 6, 5, 4, 3, 2, 1, 8, 9, 10] #Tiempo: Más de 60 minutos y no encontró el resultado\n",
    "    estado_inicial = [4, 3, 2, 1, 5, 6, 7, 8, 9, 10] #Tiempo 13.1 segundos\n",
    "\n",
    "    solucion = [1, 2, 3, 4, 5, 6, 7, 8, 9, 10]\n",
    "    nodo_solucion = bpa(estado_inicial, solucion)\n",
    "\n",
    "    # mostrar resultado\n",
    "    resultado = []\n",
    "    nodo_actual = nodo_solucion\n",
    "    while nodo_actual.get_padre() is not None:\n",
    "        resultado.append(nodo_actual.get_datos())\n",
    "        nodo_actual = nodo_actual.get_padre()\n",
    "\n",
    "    resultado.append(estado_inicial)\n",
    "    resultado.reverse()\n",
    "    print(resultado)\n",
    "\n",
    "# Al generar tantos hijos ya que tenemos más dígitos el programa se tarda bastante en encontrar el\n",
    "# estado solución por lo que esta clase de busquedas no son ideales. De acuerdo a la prueba que hice\n",
    "# [7, 6, 5, 4, 3, 2, 1, 8, 9, 10] ni siquiera logró encontrar a tiempo el estado solucion por la cantidad de\n",
    "# ciclos que debia realizar.\n",
    "# Sería genial programar de algun modo que no genere los hijos que son innecesarios."
   ]
  },
  {
   "cell_type": "code",
   "execution_count": null,
   "id": "dbe6be16",
   "metadata": {},
   "outputs": [],
   "source": []
  }
 ],
 "metadata": {
  "kernelspec": {
   "display_name": "Python 3.8.10 64-bit",
   "language": "python",
   "name": "python3"
  },
  "language_info": {
   "codemirror_mode": {
    "name": "ipython",
    "version": 3
   },
   "file_extension": ".py",
   "mimetype": "text/x-python",
   "name": "python",
   "nbconvert_exporter": "python",
   "pygments_lexer": "ipython3",
   "version": "3.8.10"
  },
  "vscode": {
   "interpreter": {
    "hash": "3c040059c337deb504f19c673fdcf9a2751b584394b1f9883eb09580a791bf0c"
   }
  }
 },
 "nbformat": 4,
 "nbformat_minor": 5
}
